{
 "cells": [
  {
   "cell_type": "markdown",
   "id": "fbfd6780",
   "metadata": {},
   "source": [
    "\n",
    "# Python Advanced Assignment with Examples\n",
    "\n",
    "This notebook provides advanced-level examples and assignments for the following Python concepts:\n",
    "\n",
    "1. Variables  \n",
    "2. Datatypes  \n",
    "3. Arithmetic Operators  \n",
    "4. Comparison Operators  \n",
    "5. Logical Operators  \n",
    "6. List  \n",
    "7. Tuple  \n",
    "8. Set  \n",
    "9. Dictionary  \n",
    "\n",
    "Each section contains examples followed by assignment questions for practice.  \n"
   ]
  },
  {
   "cell_type": "markdown",
   "id": "4ba1e0df",
   "metadata": {},
   "source": [
    "## 1. Variables"
   ]
  },
  {
   "cell_type": "code",
   "execution_count": null,
   "id": "5996bf00",
   "metadata": {},
   "outputs": [],
   "source": [
    "# Examples\n",
    "# Example 1: Swapping two variables without using a third variable\n",
    "a = 5\n",
    "b = 10\n",
    "a, b = b, a\n",
    "print(\"After swapping:\", \"a =\", a, \"b =\", b)\n",
    "\n",
    "# Example 2: Formatted message using variables\n",
    "first_name = \"John\"\n",
    "last_name = \"Doe\"\n",
    "year_of_birth = 1993\n",
    "current_year = 2024\n",
    "age = current_year - year_of_birth\n",
    "print(f\"{first_name} {last_name} is {age} years old.\")\n",
    "\n",
    "# Example 3: Displaying large integers in scientific notation\n",
    "large_number = 12345678901234567890\n",
    "print(\"Scientific notation:\", format(large_number, \".2e\"))"
   ]
  },
  {
   "cell_type": "code",
   "execution_count": null,
   "id": "4fb8c3f9",
   "metadata": {},
   "outputs": [],
   "source": [
    "# Assignment:\n",
    "# 1. Write a program to swap the values of two variables using arithmetic operations only (no third variable).\n",
    "# 2. Create variables to store your first name, last name, and favorite number. Use them to print a sentence like \"My name is John Doe, and my favorite number is 7.\"\n",
    "# 3. Create a variable with a very small float value and display it in scientific notation."
   ]
  },
  {
   "cell_type": "markdown",
   "id": "4a02346c",
   "metadata": {},
   "source": [
    "## 2. Datatypes"
   ]
  },
  {
   "cell_type": "code",
   "execution_count": null,
   "id": "6e1174b9",
   "metadata": {},
   "outputs": [],
   "source": [
    "# Examples\n",
    "# Example 1: Validating user input and performing an operation\n",
    "num1 = input(\"Enter first number: \")\n",
    "num2 = input(\"Enter second number: \")\n",
    "operation = input(\"Enter operation (+, -, *, /): \")\n",
    "if num1.isdigit() and num2.isdigit():\n",
    "    num1, num2 = float(num1), float(num2)\n",
    "    if operation == '+':\n",
    "        print(\"Result:\", num1 + num2)\n",
    "    elif operation == '-':\n",
    "        print(\"Result:\", num1 - num2)\n",
    "    elif operation == '*':\n",
    "        print(\"Result:\", num1 * num2)\n",
    "    elif operation == '/':\n",
    "        print(\"Result:\", num1 / num2)\n",
    "    else:\n",
    "        print(\"Invalid operation\")\n",
    "else:\n",
    "    print(\"Invalid numbers\")\n",
    "\n",
    "# Example 2: Type conversions\n",
    "number = 7.5\n",
    "print(\"Integer:\", int(number))\n",
    "print(\"String:\", str(number))"
   ]
  },
  {
   "cell_type": "code",
   "execution_count": null,
   "id": "0b5c0f5d",
   "metadata": {},
   "outputs": [],
   "source": [
    "# Assignment:\n",
    "# 1. Write a program that accepts two numbers and checks if their sum is greater than 100.\n",
    "# 2. Take a string input, split it into words, and display the words along with their lengths.\n",
    "# 3. Write a program to find the type of each element in a mixed list (e.g., [1, \"hello\", 3.14, True])."
   ]
  },
  {
   "cell_type": "markdown",
   "id": "7a413b2d",
   "metadata": {},
   "source": [
    "## 3. Arithmetic Operators"
   ]
  },
  {
   "cell_type": "code",
   "execution_count": null,
   "id": "a1649390",
   "metadata": {},
   "outputs": [],
   "source": [
    "# Advanced Arithmetic Operators Example\n",
    "# Calculating compound interest\n",
    "principal = 1000  # Initial amount\n",
    "rate_of_interest = 5  # Interest rate in percentage\n",
    "time_period = 2  # Time period in years\n",
    "\n",
    "# Compound interest formula: A = P(1 + r/n)^(nt)\n",
    "amount = principal * (1 + (rate_of_interest / 100)) ** time_period\n",
    "compound_interest = amount - principal\n",
    "\n",
    "print(\"Compound Interest:\", compound_interest)\n"
   ]
  },
  {
   "cell_type": "code",
   "execution_count": null,
   "id": "289b25d1",
   "metadata": {},
   "outputs": [],
   "source": [
    "# Assignment:\n",
    "# Modify the values of principal, rate_of_interest, and time_period to see how the compound interest changes.\n",
    "\n",
    "# Print the new compound interest."
   ]
  },
  {
   "cell_type": "code",
   "execution_count": null,
   "id": "8ceb811d",
   "metadata": {},
   "outputs": [],
   "source": [
    "# Advanced Assignment:\n",
    "# 1. Write a program that calculates the compound interest for a given principal amount, rate of interest, and time period.\n",
    "# 2. Create a program that calculates the area and perimeter of a rectangle using user input for length and width.\n",
    "# 3. Write a program to calculate the sum of the squares of the first N natural numbers."
   ]
  },
  {
   "cell_type": "markdown",
   "id": "f1f86e7c",
   "metadata": {},
   "source": [
    "## 4. Comparison Operators"
   ]
  },
  {
   "cell_type": "code",
   "execution_count": null,
   "id": "eb1a5a4d",
   "metadata": {},
   "outputs": [],
   "source": [
    "# Advanced Comparison Operators Example\n",
    "# Checking if a number is within a range\n",
    "number = 15\n",
    "lower_bound = 10\n",
    "upper_bound = 20\n",
    "\n",
    "is_within_range = lower_bound <= number <= upper_bound\n",
    "print(\"Is number within range:\", is_within_range)\n",
    "\n"
   ]
  },
  {
   "cell_type": "code",
   "execution_count": null,
   "id": "3c83b4f7",
   "metadata": {},
   "outputs": [],
   "source": [
    "# Assignment:\n",
    "# Change the value of number and check if it falls within the range.\n",
    "\n",
    "# Print the result."
   ]
  },
  {
   "cell_type": "code",
   "execution_count": null,
   "id": "79b6512b",
   "metadata": {},
   "outputs": [],
   "source": [
    "# Advanced Assignment:\n",
    "# 1. Write a program to compare the lengths of two user-input strings and determine which is longer or if they are equal.\n",
    "# 2. Create a program to find the smallest and largest of three user-input numbers using comparison operators.\n",
    "# 3. Write a program that checks if a given year is a leap year."
   ]
  },
  {
   "cell_type": "markdown",
   "id": "1e0b0a9f",
   "metadata": {},
   "source": [
    "## 5. Logical Operators"
   ]
  },
  {
   "cell_type": "code",
   "execution_count": null,
   "id": "1b932f68",
   "metadata": {},
   "outputs": [],
   "source": [
    "# Advanced Logical Operators Example\n",
    "# Check if a user is eligible for a discount\n",
    "is_member = True\n",
    "total_purchase = 120\n",
    "\n",
    "is_eligible_for_discount = is_member and total_purchase > 100\n",
    "print(\"Is eligible for discount:\", is_eligible_for_discount)\n",
    "\n"
   ]
  },
  {
   "cell_type": "code",
   "execution_count": null,
   "id": "9fbcae2a",
   "metadata": {},
   "outputs": [],
   "source": [
    "# Assignment:\n",
    "# Change the values of is_member and total_purchase to see if the user remains eligible for a discount.\n",
    "\n",
    "# Print the result."
   ]
  },
  {
   "cell_type": "code",
   "execution_count": null,
   "id": "3d073d09",
   "metadata": {},
   "outputs": [],
   "source": [
    "# Advanced Assignment:\n",
    "# 1. Write a program that checks if a user-input number is both positive and even using logical operators.\n",
    "# 2. Create a program that determines if a user-input number lies within a specified range (e.g., 10-50).\n",
    "# 3. Write a program that evaluates a boolean expression: (x > 10 and y < 5) or (z == 0), where x, y, and z are user-input values."
   ]
  },
  {
   "cell_type": "markdown",
   "id": "9bda5ec5",
   "metadata": {},
   "source": [
    "## 6. List"
   ]
  },
  {
   "cell_type": "code",
   "execution_count": null,
   "id": "0925b0d0",
   "metadata": {},
   "outputs": [],
   "source": [
    "# Advanced List Example\n",
    "# List of student grades\n",
    "grades = [85, 90, 78, 92, 88]\n",
    "\n",
    "# Calculate the average grade\n",
    "average_grade = sum(grades) / len(grades)\n",
    "print(\"Average Grade:\", average_grade)\n",
    "\n",
    "# Sort the grades in descending order\n",
    "grades.sort(reverse=True)\n",
    "print(\"Sorted Grades:\", grades)\n"
   ]
  },
  {
   "cell_type": "code",
   "execution_count": null,
   "id": "f84ee299",
   "metadata": {},
   "outputs": [],
   "source": [
    "# Assignment:\n",
    "# Add a new grade to the grades list.\n",
    "\n",
    "# Recalculate the average grade and print it."
   ]
  },
  {
   "cell_type": "code",
   "execution_count": null,
   "id": "940f3bb7",
   "metadata": {},
   "outputs": [],
   "source": [
    "# Advanced Assignment:\n",
    "# 1. Write a program that takes a list of numbers as input and prints the second-largest number in the list.\n",
    "# 2. Create a program to reverse a list without using built-in functions.\n",
    "# 3. Write a program that removes duplicate elements from a list and sorts the remaining elements."
   ]
  },
  {
   "cell_type": "markdown",
   "id": "5dd5943d",
   "metadata": {},
   "source": [
    "## 7. Tuple"
   ]
  },
  {
   "cell_type": "code",
   "execution_count": null,
   "id": "e432ffa4",
   "metadata": {},
   "outputs": [],
   "source": [
    "# Advanced Tuple Example\n",
    "# Tuple representing RGB color codes\n",
    "rgb_color = (255, 100, 50)\n",
    "\n",
    "# Convert RGB to Hexadecimal\n",
    "hex_color = '#%02x%02x%02x' % rgb_color\n",
    "print(\"Hexadecimal Color:\", hex_color)\n"
   ]
  },
  {
   "cell_type": "code",
   "execution_count": null,
   "id": "e42b1bbf",
   "metadata": {},
   "outputs": [],
   "source": [
    "# Assignment:\n",
    "# Create a tuple new_rgb_color with different RGB values.\n",
    "\n",
    "# Convert the new_rgb_color to hexadecimal and print it."
   ]
  },
  {
   "cell_type": "code",
   "execution_count": null,
   "id": "3a99b9af",
   "metadata": {},
   "outputs": [],
   "source": [
    "# Advanced Assignment:\n",
    "# 1. Write a program that takes a tuple of numbers as input and calculates the sum of all elements.\n",
    "# 2. Create a program that converts a tuple of strings into a single concatenated string.\n",
    "# 3. Write a program to find the index of the first occurrence of a user-input element in a tuple."
   ]
  },
  {
   "cell_type": "markdown",
   "id": "4bb12e71",
   "metadata": {},
   "source": [
    "## 8. Set"
   ]
  },
  {
   "cell_type": "code",
   "execution_count": null,
   "id": "14f0762e",
   "metadata": {},
   "outputs": [],
   "source": [
    "# Advanced Set Example\n",
    "# Set operations: Union, Intersection, Difference\n",
    "set_a = {1, 2, 3, 4, 5}\n",
    "set_b = {4, 5, 6, 7, 8}\n",
    "\n",
    "union_set = set_a | set_b\n",
    "intersection_set = set_a & set_b\n",
    "difference_set = set_a - set_b\n",
    "\n",
    "print(\"Union of sets:\", union_set)\n",
    "print(\"Intersection of sets:\", intersection_set)\n",
    "print(\"Difference of sets:\", difference_set)\n"
   ]
  },
  {
   "cell_type": "code",
   "execution_count": null,
   "id": "a25c3efc",
   "metadata": {},
   "outputs": [],
   "source": [
    "# Assignment:\n",
    "# Create two new sets set_c and set_d with different values.\n",
    "\n",
    "# Perform and print the results of union, intersection, and difference operations."
   ]
  },
  {
   "cell_type": "code",
   "execution_count": null,
   "id": "4fc10fc3",
   "metadata": {},
   "outputs": [],
   "source": [
    "# Advanced Assignment:\n",
    "# 1. Write a program that finds the union, intersection, and difference of two user-input sets.\n",
    "# 2. Create a program to check if a given set is a subset of another set.\n",
    "# 3. Write a program that removes all even numbers from a set of integers."
   ]
  },
  {
   "cell_type": "markdown",
   "id": "f59967fc",
   "metadata": {},
   "source": [
    "## 9. Dictionary"
   ]
  },
  {
   "cell_type": "code",
   "execution_count": null,
   "id": "8d29a041",
   "metadata": {},
   "outputs": [],
   "source": [
    "# Advanced Dictionary Example\n",
    "# Dictionary with nested lists\n",
    "menu = {\n",
    "    \"breakfast\": [\"pancakes\", \"coffee\", \"fruit\"],\n",
    "    \"lunch\": [\"burger\", \"fries\", \"soda\"],\n",
    "    \"dinner\": [\"steak\", \"salad\", \"wine\"]\n",
    "}\n",
    "\n",
    "# Adding a new meal item\n",
    "menu[\"snacks\"] = [\"chips\", \"juice\"]\n",
    "print(\"Updated Menu:\", menu)\n"
   ]
  },
  {
   "cell_type": "code",
   "execution_count": null,
   "id": "65c5975e",
   "metadata": {},
   "outputs": [],
   "source": [
    "# Assignment:\n",
    "# Add a new key-value pair for desserts with a list of dessert items to the menu dictionary.\n",
    "\n",
    "# Print the updated dictionary."
   ]
  },
  {
   "cell_type": "code",
   "execution_count": null,
   "id": "1a23fcd3",
   "metadata": {},
   "outputs": [],
   "source": [
    "# Advanced Assignment:\n",
    "# 1. Write a program that takes a dictionary of student names and their scores, then prints the name of the student with the highest score.\n",
    "# 2. Create a program that merges two dictionaries and handles any key conflicts by summing the values.\n",
    "# 3. Write a program to count the frequency of each character in a user-input string and store the result in a dictionary."
   ]
  }
 ],
 "metadata": {
  "language_info": {
   "name": "python"
  }
 },
 "nbformat": 4,
 "nbformat_minor": 5
}
