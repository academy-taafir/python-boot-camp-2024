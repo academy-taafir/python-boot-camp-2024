{
 "cells": [
  {
   "cell_type": "markdown",
   "id": "1d8b68cc",
   "metadata": {},
   "source": [
    "\n",
    "# Python Basics: Concepts and Practice\n",
    "\n",
    "This notebook introduces the following Python concepts with examples and practice assignments:\n",
    "\n",
    "1. Variables  \n",
    "2. Datatypes  \n",
    "3. Arithmetic Operators  \n",
    "4. Comparison Operators  \n",
    "5. Logical Operators  \n",
    "6. List  \n",
    "7. Tuple  \n",
    "8. Set  \n",
    "9. Dictionary  \n",
    "\n",
    "Let's get started!\n"
   ]
  },
  {
   "cell_type": "markdown",
   "id": "132e9ab9",
   "metadata": {},
   "source": [
    "## 1. Variables"
   ]
  },
  {
   "cell_type": "code",
   "execution_count": null,
   "id": "9d06eb37",
   "metadata": {},
   "outputs": [],
   "source": [
    "# Example: Variables\n",
    "name = \"John\"\n",
    "age = 25\n",
    "height = 5.9\n",
    "\n",
    "print(\"Name:\", name)\n",
    "print(\"Age:\", age)\n",
    "print(\"Height:\", height)"
   ]
  },
  {
   "cell_type": "code",
   "execution_count": null,
   "id": "ea16f053",
   "metadata": {},
   "outputs": [],
   "source": [
    "# Assignment:\n",
    "# 1. Create a variable to store your favorite color and print it.\n",
    "# 2. Assign your current city to a variable and print it.\n",
    "# 3. Create variables to store your first name and last name, then print them together as a full name."
   ]
  },
  {
   "cell_type": "markdown",
   "id": "ecde81b0",
   "metadata": {},
   "source": [
    "## 2. Datatypes"
   ]
  },
  {
   "cell_type": "code",
   "execution_count": null,
   "id": "d838081e",
   "metadata": {},
   "outputs": [],
   "source": [
    "# Example: Datatypes\n",
    "integer_num = 10        # Integer\n",
    "floating_num = 3.14     # Float\n",
    "string_val = \"Python\"   # String\n",
    "boolean_val = True      # Boolean\n",
    "\n",
    "print(\"Integer:\", integer_num)\n",
    "print(\"Float:\", floating_num)\n",
    "print(\"String:\", string_val)\n",
    "print(\"Boolean:\", boolean_val)"
   ]
  },
  {
   "cell_type": "code",
   "execution_count": null,
   "id": "36a0feaa",
   "metadata": {},
   "outputs": [],
   "source": [
    "# Assignment:\n",
    "# 1. Create an integer variable and a float variable, then print their values.\n",
    "# 2. Assign a boolean value to a variable and print it.\n",
    "# 3. Create a variable with a string and display its length using len()."
   ]
  },
  {
   "cell_type": "markdown",
   "id": "718acf54",
   "metadata": {},
   "source": [
    "## 3. Arithmetic Operators"
   ]
  },
  {
   "cell_type": "code",
   "execution_count": null,
   "id": "3d053763",
   "metadata": {},
   "outputs": [],
   "source": [
    "# Example: Arithmetic Operators\n",
    "a = 10\n",
    "b = 3\n",
    "\n",
    "print(\"Addition:\", a + b)\n",
    "print(\"Subtraction:\", a - b)\n",
    "print(\"Multiplication:\", a * b)\n",
    "print(\"Division:\", a / b)\n",
    "print(\"Floor Division:\", a // b)\n",
    "print(\"Modulus:\", a % b)\n",
    "print(\"Exponentiation:\", a ** b)"
   ]
  },
  {
   "cell_type": "code",
   "execution_count": null,
   "id": "2bdda1f5",
   "metadata": {},
   "outputs": [],
   "source": [
    "# Assignment:\n",
    "# 1. Perform addition, subtraction, and multiplication on two numbers of your choice.\n",
    "# 2. Calculate the remainder when one number is divided by another.\n",
    "# 3. Raise a number to the power of another number and print the result."
   ]
  },
  {
   "cell_type": "markdown",
   "id": "7e08ba64",
   "metadata": {},
   "source": [
    "## 4. Comparison Operators"
   ]
  },
  {
   "cell_type": "code",
   "execution_count": null,
   "id": "24eac94c",
   "metadata": {},
   "outputs": [],
   "source": [
    "# Example: Comparison Operators\n",
    "x = 10\n",
    "y = 20\n",
    "\n",
    "print(\"x == y:\", x == y)   # Equal to\n",
    "print(\"x != y:\", x != y)   # Not equal to\n",
    "print(\"x > y:\", x > y)     # Greater than\n",
    "print(\"x < y:\", x < y)     # Less than\n",
    "print(\"x >= y:\", x >= y)   # Greater than or equal to\n",
    "print(\"x <= y:\", x <= y)   # Less than or equal to"
   ]
  },
  {
   "cell_type": "code",
   "execution_count": null,
   "id": "75e212bd",
   "metadata": {},
   "outputs": [],
   "source": [
    "# Assignment:\n",
    "# 1. Compare two numbers using '==' and '!=' operators.\n",
    "# 2. Check if one number is greater than or less than another number.\n",
    "# 3. Use '>=' and '<=' to compare two different numbers."
   ]
  },
  {
   "cell_type": "markdown",
   "id": "3a142da8",
   "metadata": {},
   "source": [
    "## 5. Logical Operators"
   ]
  },
  {
   "cell_type": "code",
   "execution_count": null,
   "id": "5649be27",
   "metadata": {},
   "outputs": [],
   "source": [
    "# Example: Logical Operators\n",
    "a = True\n",
    "b = False\n",
    "\n",
    "print(\"a and b:\", a and b)\n",
    "print(\"a or b:\", a or b)\n",
    "print(\"not a:\", not a)"
   ]
  },
  {
   "cell_type": "code",
   "execution_count": null,
   "id": "15c12c15",
   "metadata": {},
   "outputs": [],
   "source": [
    "# Assignment:\n",
    "# 1. Use 'and' to combine two boolean expressions and print the result.\n",
    "# 2. Use 'or' to combine two boolean expressions and print the result.\n",
    "# 3. Apply 'not' to a boolean variable and print the outcome."
   ]
  },
  {
   "cell_type": "markdown",
   "id": "48892167",
   "metadata": {},
   "source": [
    "## 6. List"
   ]
  },
  {
   "cell_type": "code",
   "execution_count": null,
   "id": "6a986246",
   "metadata": {},
   "outputs": [],
   "source": [
    "# Example: List\n",
    "fruits = [\"apple\", \"banana\", \"cherry\"]\n",
    "print(\"Fruits:\", fruits)\n",
    "print(\"First fruit:\", fruits[0])\n",
    "print(\"Last fruit:\", fruits[-1])\n",
    "fruits.append(\"orange\")\n",
    "print(\"Fruits after adding orange:\", fruits)"
   ]
  },
  {
   "cell_type": "code",
   "execution_count": null,
   "id": "0ef53bfd",
   "metadata": {},
   "outputs": [],
   "source": [
    "# Assignment:\n",
    "# 1. Create a list of your favorite movies and print it.\n",
    "# 2. Add a new movie to the list and print the updated list.\n",
    "# 3. Print the first and last items from the list using indexing."
   ]
  },
  {
   "cell_type": "markdown",
   "id": "61a47541",
   "metadata": {},
   "source": [
    "## 7. Tuple"
   ]
  },
  {
   "cell_type": "code",
   "execution_count": null,
   "id": "30a69b9a",
   "metadata": {},
   "outputs": [],
   "source": [
    "# Example: Tuple\n",
    "colors = (\"red\", \"green\", \"blue\")\n",
    "print(\"Colors:\", colors)\n",
    "print(\"First color:\", colors[0])\n",
    "print(\"Last color:\", colors[-1])"
   ]
  },
  {
   "cell_type": "code",
   "execution_count": null,
   "id": "6d722f9e",
   "metadata": {},
   "outputs": [],
   "source": [
    "# Assignment:\n",
    "# 1. Create a tuple of your favorite sports and print it.\n",
    "# 2. Access the second item in the tuple and print it.\n",
    "# 3. Try changing a value in the tuple and observe the error."
   ]
  },
  {
   "cell_type": "markdown",
   "id": "01409749",
   "metadata": {},
   "source": [
    "## 8. Set"
   ]
  },
  {
   "cell_type": "code",
   "execution_count": null,
   "id": "ce3d244b",
   "metadata": {},
   "outputs": [],
   "source": [
    "# Example: Set\n",
    "unique_numbers = {1, 2, 3, 4, 5}\n",
    "print(\"Set:\", unique_numbers)\n",
    "unique_numbers.add(6)\n",
    "print(\"Set after adding 6:\", unique_numbers)\n",
    "unique_numbers.remove(3)\n",
    "print(\"Set after removing 3:\", unique_numbers)"
   ]
  },
  {
   "cell_type": "code",
   "execution_count": null,
   "id": "147ea09e",
   "metadata": {},
   "outputs": [],
   "source": [
    "# Assignment:\n",
    "# 1. Create a set of unique hobbies you have and print it.\n",
    "# 2. Add a new hobby to the set and print the updated set.\n",
    "# 3. Remove an existing hobby from the set and print the updated set."
   ]
  },
  {
   "cell_type": "markdown",
   "id": "f428ba83",
   "metadata": {},
   "source": [
    "## 9. Dictionary"
   ]
  },
  {
   "cell_type": "code",
   "execution_count": null,
   "id": "1fbb9d09",
   "metadata": {},
   "outputs": [],
   "source": [
    "# Example: Dictionary\n",
    "person = {\"name\": \"Alice\", \"age\": 30, \"city\": \"New York\"}\n",
    "print(\"Person:\", person)\n",
    "print(\"Name:\", person[\"name\"])\n",
    "person[\"age\"] = 31\n",
    "print(\"Updated Person:\", person)\n",
    "person[\"profession\"] = \"Engineer\"\n",
    "print(\"Person after adding profession:\", person)"
   ]
  },
  {
   "cell_type": "code",
   "execution_count": null,
   "id": "fd4d4413",
   "metadata": {},
   "outputs": [],
   "source": [
    "# Assignment:\n",
    "# 1. Create a dictionary to store information about your favorite book and print it.\n",
    "# 2. Update one of the values in the dictionary and print the updated dictionary.\n",
    "# 3. Add a new key-value pair to the dictionary and print the result."
   ]
  }
 ],
 "metadata": {},
 "nbformat": 4,
 "nbformat_minor": 5
}